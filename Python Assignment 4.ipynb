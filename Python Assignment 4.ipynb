{
 "cells": [
  {
   "cell_type": "markdown",
   "metadata": {},
   "source": [
    "## Q1.1. Solution:-"
   ]
  },
  {
   "cell_type": "code",
   "execution_count": 59,
   "metadata": {},
   "outputs": [
    {
     "name": "stdin",
     "output_type": "stream",
     "text": [
      "Enter value a:  4\n",
      "Enter value b:  7\n",
      "Enter value c:  10\n"
     ]
    },
    {
     "name": "stdout",
     "output_type": "stream",
     "text": [
      "The area of the triangle is:  10.928746497197197\n"
     ]
    }
   ],
   "source": [
    "class TriSides():\n",
    "\n",
    "    def __init__(self, a, b, c):\n",
    "        self.a = a\n",
    "        self.b = b\n",
    "        self.c = c\n",
    "        self.s = (self.a+self.b+self.c) / 2\n",
    "         \n",
    "\n",
    "class Areatri(TriSides):\n",
    "    def findAns(self):\n",
    "        area = (self.s*(self.s-self.a)*(self.s-self.b)*(self.s-self.c))**0.5\n",
    "        print(\"The area of the triangle is: \",area)\n",
    "\n",
    "a = int(input('Enter value a: '))\n",
    "b = int(input('Enter value b: '))\n",
    "c = int(input('Enter value c: '))   \n",
    "\n",
    "p = Areatri(a,b,c)\n",
    "p.findAns()"
   ]
  },
  {
   "cell_type": "markdown",
   "metadata": {},
   "source": [
    "## Q1.2. Solution:-"
   ]
  },
  {
   "cell_type": "code",
   "execution_count": 44,
   "metadata": {},
   "outputs": [
    {
     "name": "stdout",
     "output_type": "stream",
     "text": [
      "['kalyani', 'poonam']\n"
     ]
    }
   ],
   "source": [
    "def filter_long_words(list_word):\n",
    "    n = 5\n",
    "    new_list = []\n",
    "    for i in list_word:\n",
    "        if(len(i)>n):\n",
    "            new_list.append(i)\n",
    "    print(new_list)\n",
    "            \n",
    "list1 = ['kalyani','pooja','piya','rohit','riya','poonam','john']\n",
    "filter_long_words(list1)    "
   ]
  },
  {
   "cell_type": "markdown",
   "metadata": {},
   "source": [
    "## Q2.1. Solution:-"
   ]
  },
  {
   "cell_type": "code",
   "execution_count": 53,
   "metadata": {},
   "outputs": [
    {
     "name": "stdout",
     "output_type": "stream",
     "text": [
      "['cat', 'bog', 'apple', 'banana', 'orange', 'elephant']\n",
      "length of words:  [3, 3, 5, 6, 6, 8]\n"
     ]
    }
   ],
   "source": [
    "def len_words(list1):\n",
    "    len_list = []\n",
    "    for i in list1:\n",
    "         len_list.append(len(i))\n",
    "    print(list1)\n",
    "    print(\"length of words: \",len_list)\n",
    "    \n",
    "list1 = ['cat','bog','apple','banana','orange','elephant']\n",
    "len_words(list1)"
   ]
  },
  {
   "cell_type": "markdown",
   "metadata": {},
   "source": [
    "## Q2.2. Solution:-"
   ]
  },
  {
   "cell_type": "code",
   "execution_count": 57,
   "metadata": {},
   "outputs": [
    {
     "name": "stdin",
     "output_type": "stream",
     "text": [
      "Enter a char:-  a\n"
     ]
    },
    {
     "data": {
      "text/plain": [
       "True"
      ]
     },
     "execution_count": 57,
     "metadata": {},
     "output_type": "execute_result"
    }
   ],
   "source": [
    "vowels = 'aeiou'\n",
    "def check_vowels(char):\n",
    "    if(len(char)==1):\n",
    "        char = char.lower()\n",
    "        if(char in vowels):\n",
    "            return True\n",
    "        else:\n",
    "            return False\n",
    "        \n",
    "char = input(\"Enter a char:- \")\n",
    "check_vowels(char)\n",
    "    "
   ]
  },
  {
   "cell_type": "code",
   "execution_count": null,
   "metadata": {},
   "outputs": [],
   "source": []
  },
  {
   "cell_type": "code",
   "execution_count": null,
   "metadata": {},
   "outputs": [],
   "source": []
  }
 ],
 "metadata": {
  "kernelspec": {
   "display_name": "Python 3",
   "language": "python",
   "name": "python3"
  },
  "language_info": {
   "codemirror_mode": {
    "name": "ipython",
    "version": 3
   },
   "file_extension": ".py",
   "mimetype": "text/x-python",
   "name": "python",
   "nbconvert_exporter": "python",
   "pygments_lexer": "ipython3",
   "version": "3.8.1"
  }
 },
 "nbformat": 4,
 "nbformat_minor": 4
}
